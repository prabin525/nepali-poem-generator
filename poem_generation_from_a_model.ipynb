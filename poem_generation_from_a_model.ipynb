{
 "cells": [
  {
   "cell_type": "code",
   "execution_count": 19,
   "metadata": {},
   "outputs": [],
   "source": [
    "import torch\n",
    "import torch.nn as nn\n",
    "import torch.nn.functional as F"
   ]
  },
  {
   "cell_type": "code",
   "execution_count": 20,
   "metadata": {},
   "outputs": [],
   "source": [
    "import numpy as np\n",
    "import matplotlib.pyplot as plt"
   ]
  },
  {
   "cell_type": "code",
   "execution_count": 21,
   "metadata": {},
   "outputs": [],
   "source": [
    "with open(\"poems.txt\", \"r\", encoding=\"utf8\") as f:\n",
    "    text = f.read()"
   ]
  },
  {
   "cell_type": "code",
   "execution_count": 22,
   "metadata": {},
   "outputs": [],
   "source": [
    "all_characters = set(text)"
   ]
  },
  {
   "cell_type": "code",
   "execution_count": 23,
   "metadata": {},
   "outputs": [],
   "source": [
    "# Create a one hot encoder\n",
    "\n",
    "def one_hot_encoder(encoded_text, num_uni_characters):\n",
    "    \n",
    "    \n",
    "    # encoded_text --> batch of encoded text\n",
    "    # num_uni_characters --> len(set(text))\n",
    "    \n",
    "    one_hot = np.zeros((encoded_text.size, num_uni_characters))\n",
    "    one_hot = one_hot.astype(np.float32)\n",
    "    one_hot[np.arange(one_hot.shape[0]), encoded_text.flatten()] = 1.0\n",
    "    one_hot = one_hot.reshape((*encoded_text.shape, num_uni_characters))\n",
    "    return one_hot"
   ]
  },
  {
   "cell_type": "code",
   "execution_count": 24,
   "metadata": {},
   "outputs": [],
   "source": [
    "class CharModel(nn.Module):\n",
    "    \n",
    "    def __init__(self, all_chars, num_hidden=256, num_layers=4, dropout_porbability=0.5, use_gpu=False):\n",
    "        super().__init__()\n",
    "        \n",
    "        self.dropout_porbability = dropout_porbability\n",
    "        self.num_layers = num_layers\n",
    "        self.num_hidden = num_hidden\n",
    "        self.use_gpu = use_gpu\n",
    "        \n",
    "        self.all_chars = all_chars\n",
    "        self.decoder = dict(enumerate(all_chars))\n",
    "        self.encoder = {char:ind for ind, char in self.decoder.items()}\n",
    "        \n",
    "        self.lstm = nn.LSTM(\n",
    "            len(self.all_chars),\n",
    "            num_hidden,\n",
    "            num_layers,\n",
    "            dropout=dropout_porbability,\n",
    "            batch_first=True\n",
    "        )\n",
    "        \n",
    "        self.dropout = nn.Dropout(dropout_porbability)\n",
    "        \n",
    "        self.fc_linear = nn.Linear(num_hidden, len(self.all_chars))\n",
    "    \n",
    "    \n",
    "    def forward(self,x,hidden):\n",
    "        \n",
    "        lstm_output, hidden = self.lstm(x, hidden)\n",
    "        \n",
    "        drop_output = self.dropout(lstm_output)\n",
    "        \n",
    "        \n",
    "        drop_output = drop_output.contiguous().view(-1, self.num_hidden)\n",
    "        \n",
    "        final_out = self.fc_linear(drop_output)\n",
    "        \n",
    "        return final_out, hidden\n",
    "    \n",
    "    def hidden_state(self, batch_size):\n",
    "        if self.use_gpu:\n",
    "            hidden = (\n",
    "                torch.zeros(self.num_layers, batch_size, self.num_hidden).cuda(),\n",
    "                torch.zeros(self.num_layers, batch_size, self.num_hidden).cuda()\n",
    "            )\n",
    "        else:\n",
    "            hidden = (\n",
    "                torch.zeros(self.num_layers, batch_size, self.num_hidden),\n",
    "                torch.zeros(self.num_layers, batch_size, self.num_hidden)\n",
    "            )\n",
    "            \n",
    "        return hidden"
   ]
  },
  {
   "cell_type": "code",
   "execution_count": 25,
   "metadata": {},
   "outputs": [
    {
     "data": {
      "text/plain": [
       "CharModel(\n",
       "  (lstm): LSTM(225, 512, num_layers=3, batch_first=True, dropout=0.5)\n",
       "  (dropout): Dropout(p=0.5, inplace=False)\n",
       "  (fc_linear): Linear(in_features=512, out_features=225, bias=True)\n",
       ")"
      ]
     },
     "execution_count": 25,
     "metadata": {},
     "output_type": "execute_result"
    }
   ],
   "source": [
    "# MUST MATCH THE EXACT SAME SETTINGS AS MODEL USED DURING TRAINING!\n",
    "model_name = \"nepali_poem.net\"\n",
    "\n",
    "model = CharModel(\n",
    "    all_chars=all_characters,\n",
    "    num_hidden=512,\n",
    "    num_layers=3,\n",
    "    dropout_porbability=0.5,\n",
    "    use_gpu=False,\n",
    ")\n",
    "\n",
    "model.load_state_dict(torch.load(model_name, map_location=lambda storage, loc: storage))\n",
    "model.eval()"
   ]
  },
  {
   "cell_type": "code",
   "execution_count": 29,
   "metadata": {},
   "outputs": [],
   "source": [
    "def predict_next_char(model, char, hidden=None, k=1):\n",
    "    \n",
    "    encoded_text = model.encoder[char]\n",
    "    \n",
    "    encoded_text = np.array([[encoded_text]])\n",
    "    \n",
    "    encoded_text = one_hot_encoder(encoded_text, len(model.all_chars))\n",
    "    \n",
    "    inputs = torch.from_numpy(encoded_text)\n",
    "    \n",
    "    if model.use_gpu:\n",
    "        inputs = inputs.cuda()\n",
    "    \n",
    "    hidden = tuple([state.data for state in hidden])\n",
    "    \n",
    "    lstm_out , hidden = model(inputs, hidden)\n",
    "    \n",
    "    probs = F.softmax(lstm_out, dim=1).data\n",
    "    \n",
    "    if model.use_gpu:\n",
    "        probs = probs.cpu()\n",
    "        \n",
    "    probs, index_positions = probs.topk(k)\n",
    "    \n",
    "    index_positions = index_positions.numpy().squeeze()\n",
    "    \n",
    "    probs = probs.numpy().flatten()\n",
    "    \n",
    "    probs = probs/probs.sum()\n",
    "    \n",
    "    char = np.random.choice(index_positions, p=probs)\n",
    "    \n",
    "    return model.decoder[char], hidden"
   ]
  },
  {
   "cell_type": "code",
   "execution_count": 30,
   "metadata": {},
   "outputs": [],
   "source": [
    "def generate_text(model, size, seed=\"The\", k=1):\n",
    "    \n",
    "    if model.use_gpu:\n",
    "        model.cuda()\n",
    "    else:\n",
    "        model.cpu()\n",
    "        \n",
    "    model.eval()\n",
    "    \n",
    "    output_chars = [c for c in seed]\n",
    "    \n",
    "    hidden = model.hidden_state(1)\n",
    "    \n",
    "    for char in seed:\n",
    "        char, hidden = predict_next_char(model, char, hidden, k=k)\n",
    "    \n",
    "    output_chars.append(char)\n",
    "    \n",
    "    for i in range(size):\n",
    "        char, hidden = predict_next_char(model, output_chars[-1], hidden, k=k)\n",
    "        \n",
    "        output_chars.append(char)\n",
    "    \n",
    "    \n",
    "    return ''.join(output_chars)"
   ]
  },
  {
   "cell_type": "code",
   "execution_count": 31,
   "metadata": {},
   "outputs": [
    {
     "name": "stdout",
     "output_type": "stream",
     "text": [
      "मेरो tञь’ू–२hञdसÞьञh२ऊमtèस१पऩhmdसEप–२hञtसπफьऩdसÞьञtoऊणञपसÞऩदस[द२ऊस१२ь´ऩьEप–[द२ьञdसÞьञh२सÞьञh२२tसÞपhञ–२स[द२ऊमtèसÞऩदसणd=ऩसर––२स२स[स[द२ьञdसÞьञh२mdस१ьंtषद२tऩस–२स१t…ऊसणपv’ूऩस–m१ूमhसÞऩदस२स[द२ऊमhसÞऩदस–२स२hञdसÞьञh२सÞऩदसणपv’ूऩसर––२hञtसπvBt२tसतtमmसÞऩदसणtv१ьEसर––––ÔÔÔÔÔÔÔÔÔÔÔÔÔÔÔÔÔÔÔÔÔÔÔÔÔÔÔÔÔÔÔÔÔÔÔÔÔÔÔÔÔÔÔÔÔÔÔÔÔÔÔÔÔÔÔÔÔÔÔÔÔÔÔÔÔÔÔÔÔÔÔÔÔÔÔÔÔÔÔÔÔ–१पञьऐसÞьञh२–सिस१t२ьतस१mьञऊ–२hञdस’hःmdस२tऩьEh–[ьऐ१ूमhस२मtèस२tऐtसञद’दऩपसÞञь’ूऩ–२स[स१२ь२सÞऩदसणd–२सm१ूmdस१पऩь’ञसÞपञtऩdसÞt[ьञ२tसÞऩदस–mhणऊसÞऩदस[सणपऩьEस–२hञdस१tv´सतtvँhmdसEसरस––२hञdस’hःmdस२ऩ२tसÞऩदस–२स[स२hञdसπ२tmdस२tऐtस–२hञूसÞьञदऐस२hञdस२पMप२t–१२ऐसतtvँьEप–[द२ऊस[स[द२ьञdस२ऩmdस१ьंtषद२tऩऊसतdmhञस–m१ञऊसऩूस१२ь´hञस–२स[द२ьञtस१ьं[ऩь[ьञ[tसणपऩьEपस–[द२ьञdस१ьंञस[द२ьञdसÞьञh२सÞt=ऩhसर–––ÔÔÔÔÔÔÔÔÔÔÔÔÔÔÔÔÔÔÔÔÔÔÔÔÔÔÔÔÔÔÔÔÔÔÔÔÔÔÔÔÔÔÔÔÔÔÔÔÔÔÔÔÔÔÔÔÔÔÔÔÔÔÔÔÔÔÔÔÔÔÔÔÔÔÔÔÔÔÔÔÔ–[द२ऊमtèसÞьञ[ьऐhmस१t२ऩь[–सिस२ऩdलसÞdञऊमस–२सÞऩदस१tv´सÞऩदस[सणd=ऩस–२hञdस१ьÞञьः२tसÞऩदस१पऩhञस–२स[स१२ь´दञणhEप–[द२ьञdसmंद[t२t…द–२tऩंस१२ऐmdसÞьञ[दतद२ьत–[द२ऊमtèसÞऩदस१t…सणdस––२सm१ूमhस१पऩhञ–mपऩूसÞьञh२सतtvँhmdसEसर––[ञस२स[स१पऩhmdसEपस–[द\n"
     ]
    }
   ],
   "source": [
    "print(generate_text(model, 1000, seed = \"मेरो \", k=3))"
   ]
  },
  {
   "cell_type": "code",
   "execution_count": null,
   "metadata": {},
   "outputs": [],
   "source": []
  }
 ],
 "metadata": {
  "kernelspec": {
   "display_name": "Python 3",
   "language": "python",
   "name": "python3"
  },
  "language_info": {
   "codemirror_mode": {
    "name": "ipython",
    "version": 3
   },
   "file_extension": ".py",
   "mimetype": "text/x-python",
   "name": "python",
   "nbconvert_exporter": "python",
   "pygments_lexer": "ipython3",
   "version": "3.7.6"
  }
 },
 "nbformat": 4,
 "nbformat_minor": 4
}
